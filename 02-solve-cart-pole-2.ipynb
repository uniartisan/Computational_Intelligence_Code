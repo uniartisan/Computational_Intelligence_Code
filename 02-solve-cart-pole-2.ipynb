{
 "cells": [
  {
   "cell_type": "code",
   "execution_count": null,
   "metadata": {},
   "outputs": [],
   "source": [
    "from deap import base\n",
    "from deap import creator\n",
    "from deap import tools\n",
    "\n",
    "import random\n",
    "import numpy\n",
    "import math\n",
    "from numba import jit\n",
    "\n",
    "\n",
    "import cart_pole\n",
    "import elitism\n",
    "import time\n",
    "\n",
    "# 粒子群算法\n",
    "from sko.PSO import PSO\n",
    "from sko.tools import set_run_mode\n",
    "import matplotlib.pyplot as plt\n",
    "\n",
    "\n",
    "# PSO Algorithm constants:\n",
    "pop = 4800\n",
    "max_iter = 100\n",
    "w = 0.95\n",
    "c1 = 0.5\n",
    "c2 = 0.5\n",
    "\n",
    "# set the random seed:\n",
    "RANDOM_SEED = 42\n",
    "random.seed(RANDOM_SEED)\n",
    "# create the cart pole task class:\n",
    "cartPole = cart_pole.CartPole(RANDOM_SEED)\n",
    "NUM_OF_PARAMS = len(cartPole)\n",
    "# boundaries for layer size parameters:\n",
    "\n",
    "# weight and bias values are bound between -1 and 1:\n",
    "BOUNDS_LOW, BOUNDS_HIGH = -1.0, 1.0  # boundaries for all dimensions\n",
    "\n"
   ]
  },
  {
   "cell_type": "code",
   "execution_count": null,
   "metadata": {},
   "outputs": [],
   "source": [
    "# fitness calculation using the CrtPole class:\n",
    "# @jit\n",
    "def score(individual):\n",
    "    return cartPole.getScore(individual),\n",
    "\n"
   ]
  },
  {
   "cell_type": "code",
   "execution_count": null,
   "metadata": {},
   "outputs": [],
   "source": [
    "# Genetic Algorithm flow:\n",
    "mode = 'multiprocessing'\n",
    "set_run_mode(score, mode)\n",
    "pso = PSO(func=score, n_dim=NUM_OF_PARAMS, pop=pop, max_iter=max_iter, lb=-1.0, ub=1.0, w=w, c1=c1, c2=c2)\n",
    "\n",
    "tt = time.time()\n",
    "pso.run()\n",
    "tt2 = time.time()\n"
   ]
  },
  {
   "cell_type": "code",
   "execution_count": null,
   "metadata": {},
   "outputs": [],
   "source": [
    "# print best solution found:\n",
    "best = pso.gbest_x\n",
    "print()\n",
    "print(\"Best Solution = \", best)\n",
    "print(\"Best Fitness = \", pso.gbest_y)\n",
    "print('Time used: {} sec'.format(tt2-tt))\n",
    "\n",
    "\n"
   ]
  },
  {
   "cell_type": "code",
   "execution_count": null,
   "metadata": {},
   "outputs": [],
   "source": [
    "# save best solution for a replay:\n",
    "cartPole.saveParams(best)\n",
    "cartPole.replay(best)\n"
   ]
  },
  {
   "cell_type": "code",
   "execution_count": null,
   "metadata": {},
   "outputs": [],
   "source": [
    "# find average score of 100 episodes using the best solution found:\n",
    "print(\"Running 100 episodes using the best solution...\")\n",
    "scores = []\n",
    "for test in range(100):\n",
    "    scores.append(cart_pole.CartPole().getScore(best))\n",
    "print(\"scores = \", scores)\n",
    "print(\"Avg. score = \", sum(scores) / len(scores))\n"
   ]
  }
 ],
 "metadata": {
  "interpreter": {
   "hash": "0fa5b70e74eb62c2393c6b193cb6aa0652f44793bd960bd4296e0878c0311a38"
  },
  "kernelspec": {
   "display_name": "Python 3.10.4 ('ci')",
   "language": "python",
   "name": "python3"
  },
  "language_info": {
   "codemirror_mode": {
    "name": "ipython",
    "version": 3
   },
   "file_extension": ".py",
   "mimetype": "text/x-python",
   "name": "python",
   "nbconvert_exporter": "python",
   "pygments_lexer": "ipython3",
   "version": "3.10.4"
  },
  "orig_nbformat": 4
 },
 "nbformat": 4,
 "nbformat_minor": 2
}
